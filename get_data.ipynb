{
 "cells": [
  {
   "cell_type": "code",
   "execution_count": 1,
   "id": "4aff9dd4",
   "metadata": {},
   "outputs": [],
   "source": [
    "import string\n",
    "import requests\n",
    "from bs4 import BeautifulSoup\n",
    "import pandas as pd\n",
    "from concurrent.futures import ThreadPoolExecutor, as_completed\n",
    "\n",
    "# Function to get words starting with a given letter\n",
    "def get_words_starting_with(letter: str) -> list:\n",
    "    try:\n",
    "        result = requests.get(f\"https://www.teanglann.ie/en/fgb/_{letter}\")\n",
    "        result.raise_for_status()\n",
    "    except requests.exceptions.HTTPError as e:\n",
    "        print(f\"Failed to fetch words for letter '{letter}': {e}\")\n",
    "        return []\n",
    "    soup = BeautifulSoup(result.content, \"html.parser\")\n",
    "    samples = soup.find_all(\"span\", class_=\"abcItem\")\n",
    "    words = [(sample.a.text, f\"https://www.teanglann.ie/en/fgb/{sample.a.text}\") for sample in samples]\n",
    "    return words\n",
    "\n",
    "# Function to get all words from Teanglann.ie\n",
    "def get_all_words() -> list:\n",
    "    all_words = []\n",
    "    letters = string.ascii_lowercase\n",
    "    with ThreadPoolExecutor(max_workers=10) as executor:\n",
    "        futures = {executor.submit(get_words_starting_with, letter): letter for letter in letters}\n",
    "        for future in as_completed(futures):\n",
    "            try:\n",
    "                words = future.result()\n",
    "                all_words.extend(words)\n",
    "            except Exception as e:\n",
    "                print(f\"Error fetching words: {e}\")\n",
    "    return all_words\n",
    "\n",
    "# Save data to CSV\n",
    "def save_data_to_csv(data: list, filename: str):\n",
    "    df = pd.DataFrame(data, columns=['Word', 'Link'])\n",
    "    df.to_csv(filename, index=False)\n",
    "\n",
    "# Main script\n",
    "if __name__ == \"__main__\":\n",
    "    all_words = get_all_words()\n",
    "    save_data_to_csv(all_words, 'teanglann_words.csv')"
   ]
  },
  {
   "cell_type": "code",
   "execution_count": null,
   "id": "8661e7b4",
   "metadata": {},
   "outputs": [],
   "source": []
  }
 ],
 "metadata": {
  "kernelspec": {
   "display_name": "Python 3 (ipykernel)",
   "language": "python",
   "name": "python3"
  },
  "language_info": {
   "codemirror_mode": {
    "name": "ipython",
    "version": 3
   },
   "file_extension": ".py",
   "mimetype": "text/x-python",
   "name": "python",
   "nbconvert_exporter": "python",
   "pygments_lexer": "ipython3",
   "version": "3.11.5"
  }
 },
 "nbformat": 4,
 "nbformat_minor": 5
}
